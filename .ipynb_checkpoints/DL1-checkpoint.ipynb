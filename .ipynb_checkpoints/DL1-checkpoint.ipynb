{
 "cells": [
  {
   "cell_type": "code",
   "execution_count": 2,
   "id": "9115d027-0291-46d6-af0c-c22344b0237d",
   "metadata": {},
   "outputs": [],
   "source": [
    "import math\n",
    "import numpy as np"
   ]
  },
  {
   "cell_type": "code",
   "execution_count": 14,
   "id": "32e086b6-9fe2-457a-bb70-1c9d47b29eac",
   "metadata": {},
   "outputs": [
    {
     "data": {
      "text/plain": [
       "0.2689414213699951"
      ]
     },
     "execution_count": 14,
     "metadata": {},
     "output_type": "execute_result"
    }
   ],
   "source": [
    "def basic_sigmoid(x):\n",
    "    return 1/(1+np.exp(-x))\n",
    "basic_sigmoid(-1)"
   ]
  },
  {
   "cell_type": "code",
   "execution_count": null,
   "id": "fbc95400-b717-4cc8-8b3c-c20a724771f7",
   "metadata": {},
   "outputs": [],
   "source": [
    "x_arr"
   ]
  }
 ],
 "metadata": {
  "kernelspec": {
   "display_name": "Python 3 (ipykernel)",
   "language": "python",
   "name": "python3"
  },
  "language_info": {
   "codemirror_mode": {
    "name": "ipython",
    "version": 3
   },
   "file_extension": ".py",
   "mimetype": "text/x-python",
   "name": "python",
   "nbconvert_exporter": "python",
   "pygments_lexer": "ipython3",
   "version": "3.12.4"
  }
 },
 "nbformat": 4,
 "nbformat_minor": 5
}
