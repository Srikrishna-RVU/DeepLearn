import math
import numpy as np


def basic_sigmoid(x):
    return 1/(1+np.exp(-x))
basic_sigmoid(-1)


x_arr
