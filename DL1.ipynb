{
 "cells": [
  {
   "cell_type": "code",
   "execution_count": 2,
   "id": "9115d027-0291-46d6-af0c-c22344b0237d",
   "metadata": {
    "ExecuteTime": {
     "end_time": "2024-08-07T04:34:05.629746200Z",
     "start_time": "2024-08-07T04:34:04.785589200Z"
    }
   },
   "outputs": [],
   "source": [
    "import math\n",
    "import numpy as np"
   ]
  },
  {
   "cell_type": "markdown",
   "source": [
    "## Sigmoid stuff"
   ],
   "metadata": {
    "collapsed": false
   }
  },
  {
   "cell_type": "code",
   "execution_count": 4,
   "id": "32e086b6-9fe2-457a-bb70-1c9d47b29eac",
   "metadata": {
    "ExecuteTime": {
     "end_time": "2024-08-07T04:34:30.799880800Z",
     "start_time": "2024-08-07T04:34:30.743883Z"
    }
   },
   "outputs": [
    {
     "data": {
      "text/plain": "0.2689414213699951"
     },
     "execution_count": 4,
     "metadata": {},
     "output_type": "execute_result"
    }
   ],
   "source": [
    "def basic_sigmoid(x):\n",
    "    return 1/(1+math.exp(-x))\n",
    "basic_sigmoid(-1)"
   ]
  },
  {
   "cell_type": "code",
   "execution_count": 10,
   "id": "fbc95400-b717-4cc8-8b3c-c20a724771f7",
   "metadata": {
    "ExecuteTime": {
     "end_time": "2024-08-07T04:44:24.719355200Z",
     "start_time": "2024-08-07T04:44:24.699704500Z"
    }
   },
   "outputs": [
    {
     "data": {
      "text/plain": "array([0.73105858, 0.88079708, 0.95257413])"
     },
     "execution_count": 10,
     "metadata": {},
     "output_type": "execute_result"
    }
   ],
   "source": [
    "def sigmoid(x):\n",
    "    return 1/(1+np.exp(-x))\n",
    "x_arr = np.array([1,2,3])\n",
    "sigmoid(x_arr)"
   ]
  },
  {
   "cell_type": "code",
   "execution_count": 14,
   "outputs": [
    {
     "data": {
      "text/plain": "array([0.19661193, 0.10499359, 0.04517666])"
     },
     "execution_count": 14,
     "metadata": {},
     "output_type": "execute_result"
    }
   ],
   "source": [
    "def sigmoid_derivative(x):\n",
    "    return sigmoid(x)*(1-sigmoid(x))\n",
    "sigmoid_derivative(x_arr)"
   ],
   "metadata": {
    "collapsed": false,
    "ExecuteTime": {
     "end_time": "2024-08-07T04:44:49.406998100Z",
     "start_time": "2024-08-07T04:44:49.400749700Z"
    }
   }
  },
  {
   "cell_type": "markdown",
   "source": [
    "## img2vec"
   ],
   "metadata": {
    "collapsed": false
   }
  },
  {
   "cell_type": "code",
   "execution_count": 57,
   "outputs": [],
   "source": [
    "img = np.random.randint(0, 256, size=(3, 2 ,2), dtype=np.uint8)"
   ],
   "metadata": {
    "collapsed": false,
    "ExecuteTime": {
     "end_time": "2024-08-07T05:03:01.975576700Z",
     "start_time": "2024-08-07T05:03:01.959467400Z"
    }
   }
  },
  {
   "cell_type": "code",
   "execution_count": 60,
   "outputs": [
    {
     "data": {
      "text/plain": "array([[162],\n       [ 86],\n       [200],\n       [ 38],\n       [168],\n       [ 64],\n       [ 51],\n       [157],\n       [ 90],\n       [ 75],\n       [ 11],\n       [ 69]], dtype=uint8)"
     },
     "execution_count": 60,
     "metadata": {},
     "output_type": "execute_result"
    }
   ],
   "source": [
    "def image2vector(image):\n",
    "    return image.reshape(image.shape[0] * image.shape[1] * image.shape[2], 1)\n",
    "image2vector(img)"
   ],
   "metadata": {
    "collapsed": false,
    "ExecuteTime": {
     "end_time": "2024-08-07T05:04:16.449954800Z",
     "start_time": "2024-08-07T05:04:16.417956300Z"
    }
   }
  },
  {
   "cell_type": "markdown",
   "source": [
    "## Normalise rows"
   ],
   "metadata": {
    "collapsed": false
   }
  },
  {
   "cell_type": "code",
   "execution_count": 63,
   "outputs": [
    {
     "data": {
      "text/plain": "array([[0.        , 0.999992  , 0.00399997],\n       [0.26726124, 0.80178373, 0.53452248]])"
     },
     "execution_count": 63,
     "metadata": {},
     "output_type": "execute_result"
    }
   ],
   "source": [
    "def normalize_rows(x):\n",
    "    abs_x = np.linalg.norm(x,axis=1,keepdims=True)\n",
    "    return x/abs_x\n",
    "\n",
    "a = np.array([[0,1000,4],[2,6,4]])\n",
    "normalize_rows(a)"
   ],
   "metadata": {
    "collapsed": false,
    "ExecuteTime": {
     "end_time": "2024-08-07T05:11:40.424242800Z",
     "start_time": "2024-08-07T05:11:40.416250700Z"
    }
   }
  },
  {
   "cell_type": "markdown",
   "source": [
    "## Softmax"
   ],
   "metadata": {
    "collapsed": false
   }
  },
  {
   "cell_type": "code",
   "execution_count": null,
   "outputs": [],
   "source": [
    "def softmax(x):\n",
    "    x = np.exp(x)\n",
    "    x_sum = np.sum(x,axis=1,keepdims=True)\n",
    "    return x/x_sum\n"
   ],
   "metadata": {
    "collapsed": false
   }
  },
  {
   "cell_type": "markdown",
   "source": [
    "## Dot Products"
   ],
   "metadata": {
    "collapsed": false
   }
  },
  {
   "cell_type": "code",
   "execution_count": 74,
   "outputs": [
    {
     "data": {
      "text/plain": "('-14624.630235023547', 132.33124089241028)"
     },
     "execution_count": 74,
     "metadata": {},
     "output_type": "execute_result"
    }
   ],
   "source": [
    "import time\n",
    "n = 99999999\n",
    "x1 = np.random.randn(n)\n",
    "x2 = np.random.randn(n)\n",
    "\n",
    "start = time.time()\n",
    "dot_prod = 0\n",
    "for i,j in zip(x1,x2):\n",
    "    dot_prod += i*j\n",
    "stop = time.time()\n",
    "\n",
    "str(dot_prod),(stop-start)"
   ],
   "metadata": {
    "collapsed": false,
    "ExecuteTime": {
     "end_time": "2024-08-07T05:56:52.636973700Z",
     "start_time": "2024-08-07T05:54:34.342443300Z"
    }
   }
  },
  {
   "cell_type": "markdown",
   "source": [
    "####  Library implementation"
   ],
   "metadata": {
    "collapsed": false
   }
  },
  {
   "cell_type": "code",
   "execution_count": 75,
   "outputs": [
    {
     "data": {
      "text/plain": "(-14624.630235020797, 0.07388997077941895)"
     },
     "execution_count": 75,
     "metadata": {},
     "output_type": "execute_result"
    }
   ],
   "source": [
    "start = time.time()\n",
    "dot_prod = np.dot(x1,x2)\n",
    "stop = time.time()\n",
    "\n",
    "dot_prod,(stop - start)"
   ],
   "metadata": {
    "collapsed": false,
    "ExecuteTime": {
     "end_time": "2024-08-07T05:56:52.782361600Z",
     "start_time": "2024-08-07T05:56:52.637972900Z"
    }
   }
  },
  {
   "cell_type": "code",
   "execution_count": null,
   "outputs": [],
   "source": [],
   "metadata": {
    "collapsed": false
   }
  }
 ],
 "metadata": {
  "kernelspec": {
   "display_name": "Python 3 (ipykernel)",
   "language": "python",
   "name": "python3"
  },
  "language_info": {
   "codemirror_mode": {
    "name": "ipython",
    "version": 3
   },
   "file_extension": ".py",
   "mimetype": "text/x-python",
   "name": "python",
   "nbconvert_exporter": "python",
   "pygments_lexer": "ipython3",
   "version": "3.12.4"
  }
 },
 "nbformat": 4,
 "nbformat_minor": 5
}
